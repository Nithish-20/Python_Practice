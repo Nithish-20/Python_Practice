{
  "nbformat": 4,
  "nbformat_minor": 0,
  "metadata": {
    "colab": {
      "provenance": [],
      "authorship_tag": "ABX9TyNy4qREH+NPAhiD3pJcNoBx"
    },
    "kernelspec": {
      "name": "python3",
      "display_name": "Python 3"
    },
    "language_info": {
      "name": "python"
    }
  },
  "cells": [
    {
      "cell_type": "code",
      "execution_count": null,
      "metadata": {
        "colab": {
          "base_uri": "https://localhost:8080/"
        },
        "id": "suwldWOWY3Qo",
        "outputId": "43231967-c14a-44b9-c8c0-a21b2c5acb57"
      },
      "outputs": [
        {
          "output_type": "stream",
          "name": "stdout",
          "text": [
            "hello\n"
          ]
        }
      ],
      "source": [
        "# 1 print hello.\n",
        "print(\"hello\")"
      ]
    },
    {
      "cell_type": "code",
      "source": [
        "# 2 arithmetical operations addition and division\n",
        "a = int(input(\"Enter 1st number: \"))\n",
        "b = int(input(\"Enter 2nd number: \"))\n",
        "add = a+b\n",
        "div = a/b\n",
        "print(\"Addition:\",add)\n",
        "print(\"Division:\",div)"
      ],
      "metadata": {
        "colab": {
          "base_uri": "https://localhost:8080/"
        },
        "id": "7Di0l0rVY_uD",
        "outputId": "34824d09-2ae4-4cce-c8e2-def1ada9a1dc"
      },
      "execution_count": null,
      "outputs": [
        {
          "output_type": "stream",
          "name": "stdout",
          "text": [
            "Enter 1st number: 1\n",
            "Enter 2nd number: 2\n",
            "addition: 3\n",
            "Division: 0.5\n"
          ]
        }
      ]
    },
    {
      "cell_type": "code",
      "source": [
        "# 3 area of a triangle\n",
        "base = int(input(\"Enter base of the triangle:\"))\n",
        "height = int(input(\"Enter height of the triange:\"))\n",
        "area = (base * height) / 2\n",
        "print(\"Area of the triange:\", area)"
      ],
      "metadata": {
        "colab": {
          "base_uri": "https://localhost:8080/"
        },
        "id": "IhNryseaZiGX",
        "outputId": "b5e6287f-1503-4d30-8784-06037833980c"
      },
      "execution_count": null,
      "outputs": [
        {
          "output_type": "stream",
          "name": "stdout",
          "text": [
            "Enter base of the triangle:10\n",
            "Enter height of the triange:20\n",
            "Area of the triange: 100.0\n"
          ]
        }
      ]
    },
    {
      "cell_type": "code",
      "source": [
        "# 4 swap two variables\n",
        "a = 10\n",
        "b = 20\n",
        "a , b = b , a\n",
        "print(\"The number in A:\",a)\n",
        "print(\"The number in B:\",b)"
      ],
      "metadata": {
        "colab": {
          "base_uri": "https://localhost:8080/"
        },
        "id": "bOR4y2l6aQkw",
        "outputId": "1661052c-b696-496d-94da-6cc0d97137d7"
      },
      "execution_count": null,
      "outputs": [
        {
          "output_type": "stream",
          "name": "stdout",
          "text": [
            "The number in A: 20\n",
            "The number in B: 10\n"
          ]
        }
      ]
    },
    {
      "cell_type": "code",
      "source": [
        "# 5 generate a random number\n",
        "import random\n",
        "print(random.randint(1,2000))"
      ],
      "metadata": {
        "colab": {
          "base_uri": "https://localhost:8080/"
        },
        "id": "uuV8rIpAaka-",
        "outputId": "5bbe0464-ed0a-4eb8-ff09-d8d2fa3b4a9c"
      },
      "execution_count": null,
      "outputs": [
        {
          "output_type": "stream",
          "name": "stdout",
          "text": [
            "1207\n"
          ]
        }
      ]
    },
    {
      "cell_type": "code",
      "source": [
        "# 6 convert kilometers to miles\n",
        "km = int(input(\"Enter KM: \"))\n",
        "miles = km * 0.62137119\n",
        "print(\"The miles is:\", miles)"
      ],
      "metadata": {
        "colab": {
          "base_uri": "https://localhost:8080/"
        },
        "id": "N_7MOFiLcz3D",
        "outputId": "e65619e8-f6d7-4bdb-f6ba-c4d5113792d6"
      },
      "execution_count": null,
      "outputs": [
        {
          "output_type": "stream",
          "name": "stdout",
          "text": [
            "Enter KM: 10\n",
            "The miles is: 6.2137119\n"
          ]
        }
      ]
    },
    {
      "cell_type": "code",
      "source": [
        "# 7 convert Celsius to Fahrenheit\n",
        "c = int(input(\"Enter Celcius: \"))\n",
        "f = (9/5) * c + 32\n",
        "print(\"Farenheit:\",f)"
      ],
      "metadata": {
        "colab": {
          "base_uri": "https://localhost:8080/"
        },
        "id": "YDi1VJFyfcz8",
        "outputId": "79a95825-2e5c-4cd6-ec86-159dfd627e69"
      },
      "execution_count": null,
      "outputs": [
        {
          "output_type": "stream",
          "name": "stdout",
          "text": [
            "Enter Celcius: 0\n",
            "Farenheit: 32.0\n"
          ]
        }
      ]
    },
    {
      "cell_type": "code",
      "source": [
        "#8 program to display calendar\n",
        "import calendar\n",
        "print(calendar.month(2002, 7))"
      ],
      "metadata": {
        "colab": {
          "base_uri": "https://localhost:8080/"
        },
        "id": "yZCkkxR7UWJ6",
        "outputId": "ff0498ef-a5ad-449c-ebc5-d345f528e243"
      },
      "execution_count": null,
      "outputs": [
        {
          "output_type": "stream",
          "name": "stdout",
          "text": [
            "     July 2002\n",
            "Mo Tu We Th Fr Sa Su\n",
            " 1  2  3  4  5  6  7\n",
            " 8  9 10 11 12 13 14\n",
            "15 16 17 18 19 20 21\n",
            "22 23 24 25 26 27 28\n",
            "29 30 31\n",
            "\n"
          ]
        }
      ]
    },
    {
      "cell_type": "code",
      "source": [
        "# 9 program to solve quadratic equation\n",
        "x = float(input(\"Enter X: \"))\n",
        "y = float(input(\"Enter Y: \"))\n",
        "c = float(input(\"Enter c: \"))\n",
        "z = (3 * (x**2)) + (2 * y) + c\n",
        "print(\"The quadratic equation value is:\",z)"
      ],
      "metadata": {
        "colab": {
          "base_uri": "https://localhost:8080/"
        },
        "id": "9VA0pmHoe6Jh",
        "outputId": "6e81c688-9d82-4813-c089-431d4132dde7"
      },
      "execution_count": null,
      "outputs": [
        {
          "output_type": "stream",
          "name": "stdout",
          "text": [
            "Enter X: 1\n",
            "Enter Y: 2\n",
            "Enter c: 3\n",
            "The quadratic equation value is: 10.0\n"
          ]
        }
      ]
    },
    {
      "cell_type": "code",
      "source": [
        "# 10 swap two variables without temp variable\n",
        "a = 10\n",
        "b = 20\n",
        "b = a - b\n",
        "a = a - b\n",
        "b = b + a\n",
        "print(\"A:\", a)\n",
        "print(\"B:\", b)"
      ],
      "metadata": {
        "colab": {
          "base_uri": "https://localhost:8080/"
        },
        "id": "zGTyEOmqr3B1",
        "outputId": "957f41c1-b653-4ad8-a132-d3fdcd61da95"
      },
      "execution_count": null,
      "outputs": [
        {
          "output_type": "stream",
          "name": "stdout",
          "text": [
            "A: 20\n",
            "B: 10\n"
          ]
        }
      ]
    },
    {
      "cell_type": "code",
      "source": [
        "# 11 Check if a Number is Positive, Negative or Zero\n",
        "num = int(input(\"Enter a number: \"))\n",
        "if num > 0:\n",
        "  print(num,\"is positive\")\n",
        "elif num == 0:\n",
        "  print(num,\"is Zero\")\n",
        "else:\n",
        "  print(num,\"is negative\")"
      ],
      "metadata": {
        "colab": {
          "base_uri": "https://localhost:8080/"
        },
        "id": "SHFLosxbUdG-",
        "outputId": "37555ecf-27f0-4f59-e0a0-ecf750073529"
      },
      "execution_count": null,
      "outputs": [
        {
          "output_type": "stream",
          "name": "stdout",
          "text": [
            "Enter a number: 0\n",
            "0 is Zero\n"
          ]
        }
      ]
    },
    {
      "cell_type": "code",
      "source": [
        "# 12 Check if a Number is Odd or Even\n",
        "num = int(input(\"Enter a number: \"))\n",
        "if (num % 2 == 0):\n",
        "  print(num,\"is even\")\n",
        "else:\n",
        "  print(num,\"is odd\")"
      ],
      "metadata": {
        "colab": {
          "base_uri": "https://localhost:8080/"
        },
        "id": "LPYcZ4_4U6L8",
        "outputId": "61953805-6a1e-44a5-dcce-a71a65064c5d"
      },
      "execution_count": null,
      "outputs": [
        {
          "output_type": "stream",
          "name": "stdout",
          "text": [
            "Enter a number: 20\n",
            "20 is even\n"
          ]
        }
      ]
    },
    {
      "cell_type": "code",
      "source": [
        "# 13 Program to Check Leap Year\n",
        "year = int(input(\"Enter a year: \"))\n",
        "if (year % 4 == 0):\n",
        "  print(year,\"is a leap year\")\n",
        "elif (year % 100 == 0) and (year % 400 == 0):\n",
        "  print(year,\"is a leap year\")\n",
        "else:\n",
        "  print(year,\"is not a leap year\")"
      ],
      "metadata": {
        "colab": {
          "base_uri": "https://localhost:8080/"
        },
        "id": "eRG4v5f2VTGl",
        "outputId": "6ae9caf0-0fcf-4faa-e621-4f68c88afa50"
      },
      "execution_count": null,
      "outputs": [
        {
          "output_type": "stream",
          "name": "stdout",
          "text": [
            "Enter a year: 1988\n",
            "1988 is a leap year\n"
          ]
        }
      ]
    },
    {
      "cell_type": "code",
      "source": [
        "# 14 Check Prime Number\n",
        "num = int(input(\"Enter a number: \"))\n",
        "if (num % 2 != 0):\n",
        "  print(num,\"is prime\")\n",
        "else:\n",
        "  print(num,\"is not prime\")"
      ],
      "metadata": {
        "colab": {
          "base_uri": "https://localhost:8080/"
        },
        "id": "qaM614uBXzct",
        "outputId": "c5934c54-860a-4d41-918a-49fb2ec8008a"
      },
      "execution_count": null,
      "outputs": [
        {
          "output_type": "stream",
          "name": "stdout",
          "text": [
            "Enter a number: 21\n",
            "21 is prime\n"
          ]
        }
      ]
    },
    {
      "cell_type": "code",
      "source": [
        "# 15 Print all Prime Numbers in an Interval of 1-100\n",
        "for i in range(1, 10, 2):\n",
        "  print(i)\n",
        "for i in range(11, 100, 2):\n",
        "  if (i % 5 != 0) and (i % 7 != 0):\n",
        "    print(i)"
      ],
      "metadata": {
        "colab": {
          "base_uri": "https://localhost:8080/"
        },
        "id": "0QSWEk4TZCTE",
        "outputId": "a6767e0f-7b93-4850-e40c-4896b22be4d4"
      },
      "execution_count": 1,
      "outputs": [
        {
          "output_type": "stream",
          "name": "stdout",
          "text": [
            "1\n",
            "3\n",
            "5\n",
            "7\n",
            "9\n",
            "11\n",
            "13\n",
            "17\n",
            "19\n",
            "23\n",
            "27\n",
            "29\n",
            "31\n",
            "33\n",
            "37\n",
            "39\n",
            "41\n",
            "43\n",
            "47\n",
            "51\n",
            "53\n",
            "57\n",
            "59\n",
            "61\n",
            "67\n",
            "69\n",
            "71\n",
            "73\n",
            "79\n",
            "81\n",
            "83\n",
            "87\n",
            "89\n",
            "93\n",
            "97\n",
            "99\n"
          ]
        }
      ]
    },
    {
      "cell_type": "code",
      "source": [
        "# 16 Factorial of a Number\n",
        "num = int(input(\"Enter a Number: \"))\n",
        "fact = 1\n",
        "while (num > 0):\n",
        "  fact = fact * num\n",
        "  num = num - 1\n",
        "print(fact)"
      ],
      "metadata": {
        "colab": {
          "base_uri": "https://localhost:8080/"
        },
        "id": "Q1YsojADa_xc",
        "outputId": "676f72bb-18e6-4e30-a567-2ef20e02f822"
      },
      "execution_count": null,
      "outputs": [
        {
          "output_type": "stream",
          "name": "stdout",
          "text": [
            "Enter a Number: 5\n",
            "120\n"
          ]
        }
      ]
    },
    {
      "cell_type": "code",
      "source": [
        "# 17 Display the multiplication Table\n",
        "num = int(input(\"Enter a number: \"))\n",
        "j = 1\n",
        "for i in range (num, num*11, num):\n",
        "  print(num,\"X\",j,\"=\",i)\n",
        "  j = j + 1"
      ],
      "metadata": {
        "colab": {
          "base_uri": "https://localhost:8080/"
        },
        "id": "nSHIoqnhbw49",
        "outputId": "51f640cf-30ec-4572-8338-29a80f4ea7bd"
      },
      "execution_count": null,
      "outputs": [
        {
          "output_type": "stream",
          "name": "stdout",
          "text": [
            "Enter a number: 6\n",
            "6 X 1 = 6\n",
            "6 X 2 = 12\n",
            "6 X 3 = 18\n",
            "6 X 4 = 24\n",
            "6 X 5 = 30\n",
            "6 X 6 = 36\n",
            "6 X 7 = 42\n",
            "6 X 8 = 48\n",
            "6 X 9 = 54\n",
            "6 X 10 = 60\n"
          ]
        }
      ]
    },
    {
      "cell_type": "code",
      "source": [
        "# 18 the Fibonacci sequence\n",
        "first = fibo = 0\n",
        "second = num = 1\n",
        "print(str(first)+\"\\n\"+str(second)+'\\n'+str(num))\n",
        "while (fibo < 100):\n",
        "  fibo = num + second\n",
        "  second = num\n",
        "  num = fibo\n",
        "  print(fibo)"
      ],
      "metadata": {
        "colab": {
          "base_uri": "https://localhost:8080/"
        },
        "id": "XCZ1gwqfcZ_9",
        "outputId": "1ed03f47-2792-4055-af9f-ad46481cd7c4"
      },
      "execution_count": null,
      "outputs": [
        {
          "output_type": "stream",
          "name": "stdout",
          "text": [
            "0\n",
            "1\n",
            "1\n",
            "2\n",
            "3\n",
            "5\n",
            "8\n",
            "13\n",
            "21\n",
            "34\n",
            "55\n",
            "89\n",
            "144\n"
          ]
        }
      ]
    },
    {
      "cell_type": "code",
      "source": [
        "# 19 Check Armstrong Number\n",
        "num = int(input(\"Enter a number: \"))\n",
        "arm = 0\n",
        "div = num\n",
        "length = len(str(num))\n",
        "while (div > 0):\n",
        "  rem = int(div % 10)\n",
        "  arm =  int(arm + rem ** length)\n",
        "  div = int(div / 10)\n",
        "if (num == arm):\n",
        "  print(num,\"is a armstrong number\")\n",
        "else:\n",
        "  print(num,\"is not a armstrong number\")"
      ],
      "metadata": {
        "colab": {
          "base_uri": "https://localhost:8080/"
        },
        "id": "kV8xeiEjiGH5",
        "outputId": "cb03972e-9508-4585-9516-acc5e5acb102"
      },
      "execution_count": null,
      "outputs": [
        {
          "output_type": "stream",
          "name": "stdout",
          "text": [
            "Enter a number: 370\n",
            "370 is a armstrong number\n"
          ]
        }
      ]
    },
    {
      "cell_type": "code",
      "source": [
        "# 20 Find Armstrong Number in an Interval\n",
        "low_limit = int(input(\"Enter lower limit: \"))\n",
        "up_limit = int(input(\"Enter upper limit: \"))\n",
        "for i in range (low_limit, up_limit+1):\n",
        "  div = i\n",
        "  temp = i\n",
        "  length =len(str(temp))\n",
        "  arm = 0\n",
        "  while (div > 0):\n",
        "    rem = int(div % 10)\n",
        "    arm =  int(arm + rem ** length)\n",
        "    div = int(div / 10)\n",
        "  if (arm == temp):\n",
        "    print(arm)"
      ],
      "metadata": {
        "colab": {
          "base_uri": "https://localhost:8080/"
        },
        "id": "PEMeKA_jmcWV",
        "outputId": "45e2e41e-6a83-4614-b685-3cec9fb55ade"
      },
      "execution_count": null,
      "outputs": [
        {
          "output_type": "stream",
          "name": "stdout",
          "text": [
            "Enter lower limit: 100\n",
            "Enter upper limit: 2000\n",
            "153\n",
            "370\n",
            "371\n",
            "407\n",
            "1634\n"
          ]
        }
      ]
    },
    {
      "cell_type": "code",
      "source": [
        "# 21 Sum of Natural Numbers\n",
        "num = int(input(\"Enter a natural number: \"))\n",
        "if (num > 0):\n",
        "  sum = (num * (num + 1)) / 2\n",
        "print(int(sum))"
      ],
      "metadata": {
        "colab": {
          "base_uri": "https://localhost:8080/"
        },
        "id": "llJkA7MnqeHs",
        "outputId": "f886815d-3d06-4eb1-d016-0680bdb93c8e"
      },
      "execution_count": null,
      "outputs": [
        {
          "output_type": "stream",
          "name": "stdout",
          "text": [
            "Enter a natural number: 10\n",
            "55\n"
          ]
        }
      ]
    },
    {
      "cell_type": "code",
      "source": [
        "# 22 Program to Find LCM\n",
        "num1 = int(input(\"Enter the first number: \"))\n",
        "num2 = int(input(\"Enter the second number: \"))\n",
        "a = num1       # 12\n",
        "b = num2       # 18\n",
        "while b != 0:\n",
        "    a, b = b, a % b # a =18 , b = 0\n",
        "lcm = (num1 * num2) // a   # (18 * 12) // 18\n",
        "print(\"The LCM of\", num1, \"and\", num2, \"is\", lcm)"
      ],
      "metadata": {
        "colab": {
          "base_uri": "https://localhost:8080/"
        },
        "id": "2fLsov36qgX1",
        "outputId": "bfbe1d2a-5ee9-43d1-e27b-7143bf1b8938"
      },
      "execution_count": null,
      "outputs": [
        {
          "output_type": "stream",
          "name": "stdout",
          "text": [
            "Enter the first number: 12\n",
            "Enter the second number: 18\n",
            "The LCM of 12 and 18 is 36\n"
          ]
        }
      ]
    },
    {
      "cell_type": "code",
      "source": [
        "# 23 Program to Find HCF\n",
        "num1 = int(input(\"Enter the first number: \"))\n",
        "num2 = int(input(\"Enter the second number: \"))\n",
        "min_num = min(num1, num2)\n",
        "hcf = 1\n",
        "for i in range(1, min_num + 1):\n",
        "    if num1 % i == 0 and num2 % i == 0:\n",
        "        hcf = i\n",
        "print(\"The HCF of\", num1, \"and\", num2, \"is\", hcf)"
      ],
      "metadata": {
        "colab": {
          "base_uri": "https://localhost:8080/"
        },
        "id": "z7tN74KZqlJm",
        "outputId": "84df91e0-f980-4864-e070-4b5a38079793"
      },
      "execution_count": null,
      "outputs": [
        {
          "output_type": "stream",
          "name": "stdout",
          "text": [
            "Enter the first number: 24\n",
            "Enter the second number: 36\n",
            "The HCF of 24 and 36 is 12\n"
          ]
        }
      ]
    },
    {
      "cell_type": "code",
      "source": [
        "# 24 Convert Decimal to Binary, Octal and Hexadecimal\n",
        "decimal = int(input(\"Enter a decimal number: \"))\n",
        "binary = bin(decimal)[2:]\n",
        "octal = oct(decimal)[2:]\n",
        "hexadecimal = hex(decimal)[2:]\n",
        "print(\"Binary:\", binary)\n",
        "print(\"Octal:\", octal)\n",
        "print(\"Hexadecimal:\", hexadecimal)"
      ],
      "metadata": {
        "colab": {
          "base_uri": "https://localhost:8080/"
        },
        "id": "ZDvb1GO0qoUQ",
        "outputId": "b141fb2b-cfac-4773-c82e-e8a893b7ed21"
      },
      "execution_count": null,
      "outputs": [
        {
          "output_type": "stream",
          "name": "stdout",
          "text": [
            "Enter a decimal number: 8\n",
            "Binary: 1000\n",
            "Octal: 10\n",
            "Hexadecimal: 8\n"
          ]
        }
      ]
    },
    {
      "cell_type": "code",
      "source": [
        "# 25 Find ASCII value of a character\n",
        "char = input(\"Enter a character: \")\n",
        "print(\"The ASCII value of\", char, \"is\", ord(char))"
      ],
      "metadata": {
        "colab": {
          "base_uri": "https://localhost:8080/"
        },
        "id": "mu_gx4n7qslr",
        "outputId": "f88682a4-d05f-49a5-c2d2-8f327bf1db0b"
      },
      "execution_count": null,
      "outputs": [
        {
          "output_type": "stream",
          "name": "stdout",
          "text": [
            "Enter a character: a\n",
            "The ASCII value of a is 97\n"
          ]
        }
      ]
    },
    {
      "cell_type": "code",
      "source": [
        "# 26 Simple Calculator with 4 basic mathematical operations\n",
        "num1 = int(input(\"Enter number 1: \"))\n",
        "num2 = int(input(\"Enter number 2: \"))\n",
        "operation = input(\"Enter operation (+,-,*,/,%): \")\n",
        "if (operation == \"+\"):\n",
        "  print(num1,\"+\",num2,\"=\",(num1+num2))\n",
        "elif (operation == \"-\"):\n",
        "  print(num1,\"-\",num2,\"=\",(num1-num2))\n",
        "elif (operation == \"*\"):\n",
        "  print(num1,\"x\",num2,\"=\",(num1*num2))\n",
        "elif (operation == \"/\"):\n",
        "  print(num1,\"/\",num2,\"=\",(num1/num2))\n",
        "elif (operation == \"%\"):\n",
        "  print(num1,\"%\",num2,\"=\",(num1%num2))"
      ],
      "metadata": {
        "colab": {
          "base_uri": "https://localhost:8080/"
        },
        "id": "7EQYVirUihuq",
        "outputId": "856485cb-07fd-4d6c-c334-333fe6d9c929"
      },
      "execution_count": null,
      "outputs": [
        {
          "output_type": "stream",
          "name": "stdout",
          "text": [
            "Enter number 1: 100\n",
            "Enter number 2: 200\n",
            "Enter operation (+,-,*,/,%): /\n",
            "100 / 200 = 0.5\n"
          ]
        }
      ]
    }
  ]
}